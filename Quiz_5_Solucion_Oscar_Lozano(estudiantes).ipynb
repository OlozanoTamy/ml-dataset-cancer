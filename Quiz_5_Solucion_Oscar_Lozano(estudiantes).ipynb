{
  "nbformat": 4,
  "nbformat_minor": 0,
  "metadata": {
    "colab": {
      "provenance": [],
      "include_colab_link": true
    },
    "kernelspec": {
      "name": "python3",
      "display_name": "Python 3"
    },
    "language_info": {
      "name": "python"
    }
  },
  "cells": [
    {
      "cell_type": "markdown",
      "metadata": {
        "id": "view-in-github",
        "colab_type": "text"
      },
      "source": [
        "<a href=\"https://colab.research.google.com/github/OlozanoTamy/ml-dataset-cancer/blob/main/Quiz_5_Solucion_Oscar_Lozano(estudiantes).ipynb\" target=\"_parent\"><img src=\"https://colab.research.google.com/assets/colab-badge.svg\" alt=\"Open In Colab\"/></a>"
      ]
    },
    {
      "cell_type": "markdown",
      "source": [
        "# Quiz Capítulo 5.\n",
        "\n",
        "* **Estudiantes**"
      ],
      "metadata": {
        "id": "U1AK5ZH2QWLe"
      }
    },
    {
      "cell_type": "markdown",
      "source": [
        "## Pregunta 1.\n",
        "\n",
        "¿Cuál de las siguientes afirmaciones sobre el aprendizaje supervisado es incorrecta?"
      ],
      "metadata": {
        "id": "keiMorE-QUg3"
      }
    },
    {
      "cell_type": "markdown",
      "source": [
        "1. El alumno supervisado debe hacer predicciones correctamente con los datos proporcionados a partir de los datos de entrenamiento.\n",
        "\n",
        "2. La precisión es la relación entre lo que el modelo clasifica como verdadero y lo que realmente clasifica como verdadero. Esto se puede llamar tasa de respuesta.\n",
        "\n",
        "3. El índice de recuerdo es la relación entre lo que el modelo predice que es verdadero y lo que realmente es cierto.\n",
        "\n",
        "4. El índice de recuperación se calcula como ${\\frac{t p}{t p+f p}}\\ {\\mathrm{es~la~expresión~para~precisión}}$"
      ],
      "metadata": {
        "id": "STrbbrRLQiqS"
      }
    },
    {
      "cell_type": "markdown",
      "source": [
        "<Font color=red>[Respuesta]</Font>\n",
        "En este caso considero que la respuesta incorreta es la 4 dado que esa formula que se describe NO corresponde, aparte tambien decir que la primera afirmacion esta mal escrita por lo que tambien podria decirse que es incorrecta dado que se hacen predicciones sobre los datos de entrenamiento\n"
      ],
      "metadata": {
        "id": "IoEuPytfQ2sn"
      }
    },
    {
      "cell_type": "markdown",
      "source": [
        "## Pregunta 2.\n",
        "\n",
        "¿Cuál es el método para estimar los coeficientes de regresión en el análisis de regresión?"
      ],
      "metadata": {
        "id": "V2r156VHRYdI"
      }
    },
    {
      "cell_type": "markdown",
      "source": [
        "<Font color=red>[Respuesta]</Font>\n",
        "Se usa el metodo de MINIMOS CUADRADOS ORDINARIOS ya que este provee la opcion de minimizar la suma de los cuadrados de las diferencias entre los datos propuestos y los datos predichos\n"
      ],
      "metadata": {
        "id": "nlqyIP5hRc-o"
      }
    },
    {
      "cell_type": "markdown",
      "source": [
        "Pregunta 3\n",
        "\n"
      ],
      "metadata": {
        "id": "slLiUrlqPWpF"
      }
    },
    {
      "cell_type": "markdown",
      "source": [
        "1. Una característica de un patrón que se encuentra en un conjunto de datos específico y que existe solo en ese conjunto de datos, o una característica de un patrón que no se generaliza y existe solo en un dato específico se denomina sobreajuste.\n",
        "\n",
        "2. Los métodos de extracción utilizados para resolver el problema de sobreajuste incluyen el método de reserva, el método de validación cruzada, el método de arranque, etc.\n",
        "\n",
        "3. En el método de reserva, la validación cruzada se realiza dividiendo los datos de entrenamiento para el aprendizaje y la construcción del modelo y los datos de verificación para la evaluación del desempeño, y los resultados de los datos de verificación se usan solo para la medición del desempeño sin afectar el modelo.\n",
        "\n",
        "4. El método de validación cruzada es un método para volver a seleccionar datos de entrenamiento repetidamente y basado en la extracción de restauración, y es adecuado cuando la cantidad total de datos no es grande."
      ],
      "metadata": {
        "id": "gJC2xsUmRsrD"
      }
    },
    {
      "cell_type": "markdown",
      "source": [
        "<Font color=red>[Respuesta]</Font>\n",
        "La respuesta 4 es incorrecta porque no se trata de volver a seleccionar datos , si no de ir buscando datos para evaluar a lo largo del data set\n"
      ],
      "metadata": {
        "id": "mtjsbLIFR8WI"
      }
    },
    {
      "cell_type": "markdown",
      "source": [
        "## Pregunta 4.\n",
        "\n",
        "¿Cuál de las siguientes afirmaciones sobre el modelo de árbol de decisión es incorrecta?"
      ],
      "metadata": {
        "id": "l7lrNvb2SB0K"
      }
    },
    {
      "cell_type": "markdown",
      "source": [
        "1. Los árboles de decisión se utilizan para la predicción de quiebras corporativas, la predicción del tope del precio de las acciones, la predicción del tipo de cambio y la predicción de las perspectivas económicas.\n",
        "\n",
        "2. El algoritmo CHAID (detección automática de interacción de chi-cuadrado) es un algoritmo que realiza la separación mediante chi-cuadrado o prueba F.\n",
        "\n",
        "3. El algoritmo CART (árboles de clasificación y regresión) es un algoritmo que realiza la separación utilizando el índice de Gini, y 100 representa un nodo perfectamente puro entre 0 y 100.\n",
        "\n",
        "4. El índice de entropía del algoritmo C4.5 se puede obtener utilizando la estadística de prueba de razón de verosimilitud en la distribución polinómica y restando la entropía del nodo hijo de la entropía del nodo padre."
      ],
      "metadata": {
        "id": "6SCGzLmuSg8b"
      }
    },
    {
      "cell_type": "markdown",
      "source": [
        "<Font color=red>[Respuesta]</Font>\n",
        "La respuesta 4 es incorrecta dado que no se usa la prueba de razon de verosimilitud en la distribucion polinomica\n"
      ],
      "metadata": {
        "id": "odLqMQrNSoRQ"
      }
    },
    {
      "cell_type": "markdown",
      "source": [
        "## Pregunta 5.\n",
        "\n",
        "Cuando entrené un clasificador SVM usando el kernel RBF, parece no adaptarse al conjunto de entrenamiento.<br>\n",
        "¿Debo aumentar o disminuir gamma? <br> ¿Qué pasa con C?"
      ],
      "metadata": {
        "id": "byWtCux4S7Rh"
      }
    },
    {
      "cell_type": "markdown",
      "source": [
        "En ese caso hace sentido disminuir gamma  para que el programa no sea tan complejo  con el fin de generar mejores generalizaciones, por otro lado es importante optimizar el parametro C disminuyendolo para que el equilibrio sea mejor\n"
      ],
      "metadata": {
        "id": "HcMN7wpJaft7"
      }
    },
    {
      "cell_type": "markdown",
      "source": [
        "<Font color=red>[Respuesta]</Font>"
      ],
      "metadata": {
        "id": "oywvS0RkTMCj"
      }
    },
    {
      "cell_type": "markdown",
      "source": [
        "## Pregunta 6.\n",
        "\n",
        "Utilice el algoritmo KNN para clasificar los datos en el código siguiente y calcular la exactitud, la llamada y la precisión. Establezca el valor de adyacencia en 5."
      ],
      "metadata": {
        "id": "cpVjmwteTUL2"
      }
    },
    {
      "cell_type": "markdown",
      "source": [],
      "metadata": {
        "id": "KheScaKWA8IM"
      }
    },
    {
      "cell_type": "code",
      "execution_count": 35,
      "metadata": {
        "id": "daWG0g1AQTiQ"
      },
      "outputs": [],
      "source": [
        "import numpy as np\n",
        "import pandas as pd\n",
        "from sklearn.datasets import load_breast_cancer\n",
        "from sklearn.model_selection import train_test_split, GridSearchCV\n",
        "from sklearn.neighbors import KNeighborsClassifier\n",
        "from sklearn import metrics, preprocessing\n",
        "from sklearn.metrics import precision_score #para la precision\n",
        "from sklearn.metrics import recall_score #para el recall\n",
        "from sklearn.metrics import accuracy_score # para la exactitud\n",
        "\n",
        "# Load data (descargar los datos)\n",
        "data = load_breast_cancer()\n",
        "X = data['data']\n",
        "Y = 1 - data['target']  # 0 = 'benign' and 1 = malignant.  # 0 = benigno y 1 = maligno\n",
        "\n",
        "# Divida el conjunto de datos en entrenamiento y prueba.\n",
        "X_train, X_test, Y_train, Y_test = train_test_split(X, Y, test_size=0.4, random_state=1234)\n"
      ]
    },
    {
      "cell_type": "code",
      "source": [
        "type(X)"
      ],
      "metadata": {
        "colab": {
          "base_uri": "https://localhost:8080/"
        },
        "id": "uhjJUPL5LREp",
        "outputId": "082b7131-0fb7-41eb-e87a-422ce1331498"
      },
      "execution_count": 5,
      "outputs": [
        {
          "output_type": "execute_result",
          "data": {
            "text/plain": [
              "numpy.ndarray"
            ]
          },
          "metadata": {},
          "execution_count": 5
        }
      ]
    },
    {
      "cell_type": "code",
      "source": [
        "df = pd.DataFrame(X) #se convierte a un df\n",
        "df.shape\n",
        "df.isnull().sum(axis=0) #No falta ningun Valor\n",
        "knn5 = KNeighborsClassifier(n_neighbors=5) #5\n",
        "knn5.fit(X_train, Y_train); # se entrena el modelo\n",
        "Y_pred = knn5.predict(X_test) #preddiones\n",
        "accuracy = accuracy_score(Y_test, Y_pred)\n",
        "precisions = precision_score(Y_test, Y_pred, average=None)\n",
        "recalls = recall_score(Y_test, Y_pred, average=None)\n",
        "print(f\"la prescision es de: {precisions}\")\n",
        "print(f\"La sensibilidad es de: {recalls}\")\n",
        "print(f\"acurracy: {accuracy}\")"
      ],
      "metadata": {
        "colab": {
          "base_uri": "https://localhost:8080/"
        },
        "id": "ZKjwAvOrLnXZ",
        "outputId": "e46b6642-b1da-4556-cdf4-4026a72b13dd"
      },
      "execution_count": 42,
      "outputs": [
        {
          "output_type": "stream",
          "name": "stdout",
          "text": [
            "la prescision es de: [0.9205298  0.93506494]\n",
            "La sensibilidad es de: [0.96527778 0.85714286]\n",
            "acurracy: 0.9254385964912281\n"
          ]
        }
      ]
    },
    {
      "cell_type": "markdown",
      "source": [
        "<Font color=red>[Respuesta]</Font>"
      ],
      "metadata": {
        "id": "6KKNokG2TlBO"
      }
    }
  ]
}